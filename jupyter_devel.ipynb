{
 "cells": [
  {
   "cell_type": "code",
   "execution_count": 60,
   "metadata": {
    "scrolled": true
   },
   "outputs": [
    {
     "data": {
      "text/html": [
       "<style>.container { width:100% !important; }</style>"
      ],
      "text/plain": [
       "<IPython.core.display.HTML object>"
      ]
     },
     "metadata": {},
     "output_type": "display_data"
    }
   ],
   "source": [
    "import os\n",
    "from flask import Flask\n",
    "import json\n",
    "import time\n",
    "import auth\n",
    "import pytz\n",
    "import socket\n",
    "import sqlite3\n",
    "import numpy as np\n",
    "import datetime\n",
    "import pandas as pd\n",
    "from jinja2 import Environment, FileSystemLoader\n",
    "from pandas.io.json import json_normalize\n",
    "from flask_sqlalchemy import SQLAlchemy\n",
    "pd.set_option('display.max_colwidth', -1)\n",
    "from IPython.core.display import display, HTML\n",
    "display(HTML(\"<style>.container { width:100% !important; }</style>\"))\n",
    "\n",
    "def get_datax(_db):\n",
    "    conn = sqlite3.connect(_db)\n",
    "    cur = conn.cursor()\n",
    "    cur.execute(\"SELECT json_data FROM flight_data limit 1\")\n",
    "    _data = cur.fetchall()\n",
    "    cur.close()\n",
    "    conn.close()\n",
    "    return _data\n",
    "\n",
    "def determine_direction(x):\n",
    "    \"\"\"\n",
    "\n",
    "    :param x:\n",
    "    :return:\n",
    "    \"\"\"\n",
    "    x = str(x)\n",
    "    if x == \"BTS\" or x == \"KSC\" or x == \"SLD\" or x == \"TAT\":\n",
    "        return str(\"TAM\")\n",
    "    else:\n",
    "        return str(\"SPAT\")\n",
    "\n",
    "\n",
    "def determine_production(x):\n",
    "    \"\"\"\n",
    "\n",
    "    :param x:\n",
    "    :return:\n",
    "    \"\"\"\n",
    "    x = str(x)\n",
    "    if x == \"BTS\":\n",
    "        return str(\"BTS\")\n",
    "    elif x == \"KSC\":\n",
    "        return str(\"KSC\")\n",
    "    else:\n",
    "        return str(\"---\")\n",
    "\n",
    "\n",
    "def extra_catering(x):\n",
    "    \"\"\"\n",
    "\n",
    "    :param x:\n",
    "    :return:\n",
    "    \"\"\"\n",
    "    try:\n",
    "        return ['{0}: {1}'.format(i['code'],i['count']) for i in x]\n",
    "    except:\n",
    "        return 0\n",
    "\n",
    "\n",
    "def split_weird_timeframes(_i, _dataframe):\n",
    "    \"\"\"\n",
    "\n",
    "    :param _i:\n",
    "    :param _dataframe:\n",
    "    :return:\n",
    "    \"\"\"\n",
    "    _s = _i.split('___')[0]\n",
    "    _e = _i.split('___')[1]\n",
    "    return _dataframe.loc[_s:_e]\n",
    "\n",
    "\n",
    "def add_one_day(_ii):\n",
    "    _plus_day = datetime.datetime.strptime(_ii, '%Y-%m-%d %H:%M:%S') + datetime.timedelta(1)\n",
    "    return _plus_day\n",
    "\n",
    "\n",
    "\n",
    "def get_unique_days(_data):\n",
    "    \"\"\"\n",
    "\n",
    "    :param _data:\n",
    "    :return:\n",
    "    \"\"\"\n",
    "    _raw_data = json.loads((_data[0][0]).decode(\"utf-8\"))\n",
    "    _df = json_normalize(_raw_data['data']['flight']['data'])\n",
    "    \n",
    "    # _df = json_normalize(_data['data']['flight']['data'])\n",
    "    _df_normalized = _df\n",
    "    \n",
    "    _all_unique_days = _df['local_std_date'].unique()\n",
    "    _all_unique_days = np.sort(_all_unique_days)\n",
    "    _all_unique_days = ['{}___{}'.format(_i + ' 09:00:00', add_one_day(_i + ' 09:00:00')) for _i in _all_unique_days]\n",
    "    _all_unique_days[0] = str(datetime.datetime.strptime(_all_unique_days[0].split('___')[0], '%Y-%m-%d %H:%M:%S') \\\n",
    "                          - datetime.timedelta(hours=9)) + \"___\" + str(_all_unique_days[0].split('___')[1])\n",
    "    print(_all_unique_days)\n",
    "    return _all_unique_days, _df_normalized\n",
    "\n",
    "def render_tables(_df_normalized):\n",
    "    \"\"\"\n",
    "\n",
    "    :param _df_normalized:\n",
    "    :return:\n",
    "    \"\"\"\n",
    "    _df = _df_normalized\n",
    "    _compare = pd.DataFrame()\n",
    "\n",
    "    _compare['Departure'] = pd.to_datetime(_df['local_std_date'] + ' ' + _df['local_std_time'])\n",
    "    _compare['Depart'] = _compare['Departure']\n",
    "    _compare['Arrival'] = pd.to_datetime(_df['local_sta_date'] + ' ' + _df['local_sta_time'])\n",
    "    _compare['Flight'] = _df['flight_number']\n",
    "    _compare['Aircraft'] = _df['aircraft_config']\n",
    "    _compare['Reg'] = _df['aircraft_reg']\n",
    "    _compare['Route'] = _df['route_id']\n",
    "    _compare[\"Meal\"] = _df[\"catering_order.flight_meal_type\"]\n",
    "    _compare['Direction'] = _df['departure_iata'].map(determine_direction)\n",
    "    _compare['Production'] = _df['departure_iata'].map(determine_production)\n",
    "    _compare['From'] = _df['departure_iata']\n",
    "    _compare['To'] = _df['destination_iata']\n",
    "\n",
    "    _compare['Quantity'] = _df['catering_order.quantity_y']\n",
    "    _compare['Crew'] = _df['catering_order.quantity_crew']\n",
    "    _compare['Extra Catering'] = _df['extra_catering'].map(extra_catering)\n",
    "    _compare['Note'] = _df['catering_order.general_note'].map(\n",
    "        lambda x: \"{0}{1}{2}\".format(\"\"\"<div class=\"hoverable\">\"\"\", str(x), \"</div>\"))\n",
    "    _compare['Note'] = _compare['Note'].map(lambda x: str(x).replace('\\n', \"<br>\"))\n",
    "    _compare['Note'] = _compare['Note'].map(lambda x: str(x).replace('\\r', ''))\n",
    "    _compare['Quantity'] = _compare['Quantity'].fillna(0)\n",
    "    _compare['Crew'] = _compare['Crew'].fillna(0)\n",
    "    _compare.index = _compare['Departure']\n",
    "    return _compare\n",
    "\n"
   ]
  },
  {
   "cell_type": "code",
   "execution_count": 61,
   "metadata": {},
   "outputs": [
    {
     "name": "stdout",
     "output_type": "stream",
     "text": [
      "['2018-07-17 00:00:00___2018-07-18 09:00:00', '2018-07-18 09:00:00___2018-07-19 09:00:00', '2018-07-19 09:00:00___2018-07-20 09:00:00', '2018-07-20 09:00:00___2018-07-21 09:00:00', '2018-07-21 09:00:00___2018-07-22 09:00:00']\n"
     ]
    }
   ],
   "source": [
    "db = \"2w.sqlite\"\n",
    "data = get_datax(db)\n",
    "ud, normal = get_unique_days(data)\n",
    "compare = render_tables(normal)"
   ]
  },
  {
   "cell_type": "code",
   "execution_count": null,
   "metadata": {
    "scrolled": false
   },
   "outputs": [],
   "source": []
  },
  {
   "cell_type": "code",
   "execution_count": null,
   "metadata": {},
   "outputs": [],
   "source": []
  },
  {
   "cell_type": "code",
   "execution_count": null,
   "metadata": {},
   "outputs": [],
   "source": []
  }
 ],
 "metadata": {
  "kernelspec": {
   "display_name": "Python 3",
   "language": "python",
   "name": "python3"
  },
  "language_info": {
   "codemirror_mode": {
    "name": "ipython",
    "version": 3
   },
   "file_extension": ".py",
   "mimetype": "text/x-python",
   "name": "python",
   "nbconvert_exporter": "python",
   "pygments_lexer": "ipython3",
   "version": "3.6.5"
  }
 },
 "nbformat": 4,
 "nbformat_minor": 2
}
